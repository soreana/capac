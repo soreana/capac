{
 "cells": [
  {
   "cell_type": "code",
   "execution_count": 6,
   "id": "breathing-remainder",
   "metadata": {},
   "outputs": [],
   "source": [
    "import cherrypy\n",
    "\n",
    "class Agent(object):\n",
    "    \n",
    "    def __init__(self, shared_key):\n",
    "        self.shared_key = shared_key\n",
    "    \n",
    "    @cherrypy.expose\n",
    "    def index(self):\n",
    "        return \"Hello world!\"\n",
    "    \n",
    "\n",
    "def start(shared_key):\n",
    "    cherrypy.quickstart(Agent(shared_key))"
   ]
  },
  {
   "cell_type": "code",
   "execution_count": 7,
   "id": "silver-union",
   "metadata": {},
   "outputs": [
    {
     "name": "stderr",
     "output_type": "stream",
     "text": [
      "[03/Mar/2023:00:47:03] ENGINE Listening for SIGTERM.\n",
      "[03/Mar/2023:00:47:03] ENGINE Listening for SIGHUP.\n",
      "[03/Mar/2023:00:47:03] ENGINE Listening for SIGUSR1.\n",
      "[03/Mar/2023:00:47:03] ENGINE Bus STARTING\n",
      "CherryPy Checker:\n",
      "The Application mounted at '' has an empty config.\n",
      "\n",
      "[03/Mar/2023:00:47:03] ENGINE Started monitor thread 'Autoreloader'.\n",
      "[03/Mar/2023:00:47:03] ENGINE Serving on http://127.0.0.1:8080\n",
      "[03/Mar/2023:00:47:03] ENGINE Bus STARTED\n"
     ]
    },
    {
     "name": "stdout",
     "output_type": "stream",
     "text": [
      "127.0.0.1 - - [03/Mar/2023:00:47:59] \"GET / HTTP/1.1\" 200 12 \"\" \"curl/7.64.0\"\n",
      "127.0.0.1 - - [03/Mar/2023:00:48:04] \"GET / HTTP/1.1\" 200 12 \"\" \"curl/7.64.0\"\n"
     ]
    },
    {
     "name": "stderr",
     "output_type": "stream",
     "text": [
      "[03/Mar/2023:00:48:17] ENGINE Keyboard Interrupt: shutting down bus\n",
      "[03/Mar/2023:00:48:17] ENGINE Bus STOPPING\n",
      "[03/Mar/2023:00:48:17] ENGINE HTTP Server cherrypy._cpwsgi_server.CPWSGIServer(('127.0.0.1', 8080)) shut down\n",
      "[03/Mar/2023:00:48:17] ENGINE Stopped thread 'Autoreloader'.\n",
      "[03/Mar/2023:00:48:17] ENGINE Bus STOPPED\n",
      "[03/Mar/2023:00:48:17] ENGINE Bus EXITING\n",
      "[03/Mar/2023:00:48:17] ENGINE Bus EXITED\n",
      "[03/Mar/2023:00:48:17] ENGINE Waiting for child threads to terminate...\n"
     ]
    }
   ],
   "source": [
    "start(shared_key=\"12\")"
   ]
  },
  {
   "cell_type": "code",
   "execution_count": null,
   "id": "awful-serbia",
   "metadata": {},
   "outputs": [],
   "source": []
  }
 ],
 "metadata": {
  "kernelspec": {
   "display_name": "Python 3",
   "language": "python",
   "name": "python3"
  },
  "language_info": {
   "codemirror_mode": {
    "name": "ipython",
    "version": 3
   },
   "file_extension": ".py",
   "mimetype": "text/x-python",
   "name": "python",
   "nbconvert_exporter": "python",
   "pygments_lexer": "ipython3",
   "version": "3.9.1"
  }
 },
 "nbformat": 4,
 "nbformat_minor": 5
}
